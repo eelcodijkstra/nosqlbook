{
 "cells": [
  {
   "cell_type": "markdown",
   "id": "993f55a9-3523-4845-9e6f-cf0b4eb1b4b6",
   "metadata": {},
   "source": [
    "# Zoeken"
   ]
  },
  {
   "cell_type": "markdown",
   "id": "4bbb09f9-4128-44ef-8cec-499cb3eed5b0",
   "metadata": {},
   "source": [
    "* zoeken in een database\n",
    "    * gesloten verzameling\n",
    "    * gestructureerde data\n",
    "* zoeken in het web (1)\n",
    "    * open verzameling\n",
    "    * ongestructureerde data\n",
    "* zoeken in het web (2)\n",
    "    * gestructureerde data in het web"
   ]
  },
  {
   "cell_type": "code",
   "execution_count": null,
   "id": "1d21236e-4ecb-4933-9e23-9a1aebe0f766",
   "metadata": {},
   "outputs": [],
   "source": [
    "* relevante gegevens - in een bepaalde context (bijv. een business beslissing)\n",
    "* "
   ]
  },
  {
   "cell_type": "markdown",
   "id": "585d434f-c0ec-4f8e-ae2f-c5c79a1db7e8",
   "metadata": {},
   "source": [
    "## Voorbeeld - verwerken van formulieren\n",
    "\n",
    "* maak een formulier met Google Forms\n",
    "* verwerk dit via een Google Spreadsheet\n",
    "    * zoeken, selecteren; projectie (verbergen van kolommen)"
   ]
  },
  {
   "cell_type": "markdown",
   "id": "453ce7f0-3c9a-48f4-bb16-7cb13cc89cfc",
   "metadata": {},
   "source": [
    "## Voorbeeld: zoeken naar een restaurant\n",
    "\n",
    "Als je via Google (of een andere zoekmachine) zoekt naar een restaurant, krijg je het resultaat op een hele gestructureerde manier: voor elk restaurant de openingstijden, beoordeling, de locatie (met een kaartje erbij).\n",
    "Het lijkt alsof je het opgezocht hebt in een database. Hoe kan dit? Als je de websites van de restaurants opzoekt, zien die er allemaal verschillend uit.\n",
    "\n",
    "Het \"geheim\" hierachter is dat deze websites niet alleen ongestructureerde data (tekst en plaatjes) bevatten, maar ook voor computers leesbare *gestructureerde data*. Dit betekent dat het web steeds meer het karakter krijgt van een (gedistribueerde) database. In het hoofdstuk over \"Linked data\" gaan we hier verder op in.\n",
    "\n",
    "> Er blijft wel een belangrijk verschil tussen een normale database en het web: een database is een \"gesloten wereld\", het web is een \"open wereld\". Dit betekent dat als je zoekopdracht naar A in het web geen succes heeft, je niet kunt concluderen dat A niet bestaat."
   ]
  },
  {
   "cell_type": "markdown",
   "id": "af8b6a0e-01e1-4841-a376-f1d8e118f3e1",
   "metadata": {},
   "source": [
    "### Opdrachten\n",
    "\n",
    "* zoek naar de restaurants in de buurt. Worden deze allemaal gevonden? Zijn de gestructureerde data voor alle restaurants compleet en vergelijkbaar?\n",
    "* op welke manier bepaalt de context het resultaat? (plaats, tijd) - de zoekmachine wil in dit geval vaak je locatie weten. Zoek eens naar \"restaurants\"\n",
    "* er zijn nog meer categorieën met zulke gestructureerde data, bijvoorbeeld: winkels, recepten, boeken, "
   ]
  },
  {
   "cell_type": "markdown",
   "id": "f1b1cf02-a2f8-4d56-9c96-33a17724d9ed",
   "metadata": {},
   "source": [
    "### Meer informatie\n",
    "\n",
    "* Hoofdstuk over Linked Data\n",
    "* "
   ]
  },
  {
   "cell_type": "markdown",
   "id": "f949477c-8350-4d94-93fc-beebe35c2e4e",
   "metadata": {},
   "source": [
    "Kun je in een zoekopdracht in het web verschil maken tussen \"Bart Bakker\" en \"Bakker Bart\" - dat wil zeggen, tussen een persoon die Bakker heet en iemand die bakker van beroep is?"
   ]
  },
  {
   "cell_type": "markdown",
   "id": "4e7d0971-0a64-4620-83d8-1b9e3bc033cd",
   "metadata": {},
   "source": [
    "## Precision en Recall"
   ]
  },
  {
   "cell_type": "markdown",
   "id": "77891d54-65fa-4554-a77f-dd20b8d81dde",
   "metadata": {},
   "source": [
    "* recall: krijg je alle resultaten die passen bij de vraag?\n",
    "* precision: welk deel van de resultaten passen bij de vraag?\n",
    "\n",
    "Bovenstaande begrippen hebben zin bij zoeken in het web, of in het algemeen \"retrieval\". Maar bij het zoeken in een database verwacht je hier geen problemen: de precision zou 1 moeten zijn (of 100%), en de recall ook 100%."
   ]
  }
 ],
 "metadata": {
  "kernelspec": {
   "display_name": "Echo",
   "language": "text",
   "name": "echo"
  },
  "language_info": {
   "file_extension": ".txt",
   "mimetype": "text/plain",
   "name": "Any text"
  }
 },
 "nbformat": 4,
 "nbformat_minor": 5
}
