{
 "cells": [
  {
   "cell_type": "markdown",
   "id": "cae3e934-7035-4e12-b5f1-db90ce6d29e0",
   "metadata": {},
   "source": [
    "# Structuur: JSON-schema"
   ]
  },
  {
   "cell_type": "markdown",
   "id": "cb2c6e31-ed6c-405f-b8ce-4a0d2a280c50",
   "metadata": {},
   "source": [
    "* MongoDB/document-database: elk document (in een collection) bepaalt zijn eigen structuur\n",
    "* voor zoeken in een collection: (deels) gemeenschappelijke structuur van documenten nodig\n",
    "* met JSON-schema kun je de *structuur van een document beschrijven*; je kunt daarmee controleren of een bepaald document aan dit schema voldoet; je documenteert daarmee ook de collection\n",
    "* we noemen een document dat aan een JSON-schema voldoet ook wel een *instantie* (instance) van dat schema\n",
    "* je kunt een JSON-schema ook zien als meta-data: het is data die de structuur van andere data (documenten) beschrijft.\n",
    "* in MongoDB kun je een JSON-schema koppelen aan een collection, om af te dwingen dat alle documenten in die collection aan dat schema voldoen.\n",
    "* JSON-schema dit is niet alleen zinvol voor (document) databases, maar bijvoorbeeld ook voor:\n",
    "    * API's die JSON-documenten als invoer verwachten, of als resultaat opleveren;\n",
    "    * UI voor formulierinvoer van documenten \n",
    "    * (andere contexten waar JSON documenten gebruikt worden?)"
   ]
  },
  {
   "cell_type": "markdown",
   "id": "46af98d5-7383-41ad-9132-c8c637903924",
   "metadata": {},
   "source": [
    "## Inleiding"
   ]
  },
  {
   "cell_type": "markdown",
   "id": "78873f43-0b60-467d-8a5c-30759a35b5b4",
   "metadata": {},
   "source": [
    "Zoals je eerder gezien hebt, bepaalt elk (JSON-)document in een MongoDB collection zijn eigen structuur: de namen en types van de velden.\n",
    "Voor een zoekopdracht in een collection, bijvoorbeeld naar documenten met `plaats = \"Amsterdam\"`, is het wel zo handig als alle documenten een veld `plaats` hebben, met een string als waarde. Een document met `{...\"city\": \"Amsterdam\"...}` komt immers niet in het zoekresultaat voor.\n",
    "\n",
    "Met een *JSON-schema* (https://json-schema.org) kun je controleren (valideren) of een JSON-document (ten minste) bepaalde velden heeft, met de juiste namen en types.\n",
    "Door een JSON-schema te koppelen aan een MongoDB *collection* kun je afdwingen dat alleen documenten die aan het schema voldoen aan die collection toegevoegd worden."
   ]
  },
  {
   "cell_type": "markdown",
   "id": "b177253a-4fb0-41be-9f2d-09b079b5c7c5",
   "metadata": {},
   "source": [
    "```{admonition} Opmerking\n",
    "Je kunt een JSON-schema vergelijken met een *type* of een *class* voor JSON-documenten.\n",
    "Een JSON-document (instantie) is dan een waarde van dat type, of object van die class.\n",
    "```"
   ]
  },
  {
   "cell_type": "markdown",
   "id": "7fec70a7-a835-4899-a7e6-4a991e74bfce",
   "metadata": {},
   "source": [
    "We geven eerst een elementair JSON-schema voorbeeld. Voor veel programmeertalen zijn er libraries om te werken met JSON-schema. We gebruiken hier de Python-library `jsonschema`, zie https://python-jsonschema.readthedocs.io."
   ]
  },
  {
   "cell_type": "code",
   "execution_count": 1,
   "id": "5495fc9b-2d33-4449-a8c1-15d395817125",
   "metadata": {},
   "outputs": [],
   "source": [
    "from jsonschema import validate"
   ]
  },
  {
   "cell_type": "markdown",
   "id": "d73870f8-2088-470b-839c-dc665ee12441",
   "metadata": {},
   "source": [
    "Dit eerste voorbeeld geeft een schema met twee velden, `naam` en `leeftijd`. Voor elk veld kun je het type aangeven. Met behulp van `required` geef je aan welke velden *verplicht* zijn."
   ]
  },
  {
   "cell_type": "code",
   "execution_count": 2,
   "id": "c56db9dc-2e2f-4ecf-802b-415a8556e77b",
   "metadata": {},
   "outputs": [],
   "source": [
    "schema = {\n",
    "    \"type\": \"object\",\n",
    "    \"properties\": {\n",
    "        \"naam\": {\"type\": \"string\"},\n",
    "        \"leeftijd\": {\"type\": \"integer\"}\n",
    "    },\n",
    "    \"required\": [\"naam\"]\n",
    "}"
   ]
  },
  {
   "cell_type": "markdown",
   "id": "3ed42c71-ae24-4d38-9489-73c7f389a85b",
   "metadata": {},
   "source": [
    "Met `validate` kun je controleren of een JSON-object voldoet aan dit schema.\n",
    "(Alleen als dat niet het geval is krijg je een foutmelding (exception); anders niets.)"
   ]
  },
  {
   "cell_type": "code",
   "execution_count": 3,
   "id": "511d4274-28eb-4dfb-8db3-73403df66ded",
   "metadata": {},
   "outputs": [],
   "source": [
    "object1 = {\"naam\": \"Hans\", \"leeftijd\": 33}\n",
    "validate(instance=object1, schema=schema)"
   ]
  },
  {
   "cell_type": "markdown",
   "id": "ef8df755-3de8-4288-bf66-6af8f25388c5",
   "metadata": {},
   "source": [
    "In het volgende voorbeeld klopt de waarde van het veld `leeftijd` niet met het type zoals gegeven in het schema. Dit resulteert in een foutmelding."
   ]
  },
  {
   "cell_type": "code",
   "execution_count": 4,
   "id": "f0edd8dc-1aa4-440c-a50d-10b7853ef34f",
   "metadata": {},
   "outputs": [
    {
     "ename": "ValidationError",
     "evalue": "'dertig' is not of type 'integer'\n\nFailed validating 'type' in schema['properties']['leeftijd']:\n    {'type': 'integer'}\n\nOn instance['leeftijd']:\n    'dertig'",
     "output_type": "error",
     "traceback": [
      "\u001b[0;31m---------------------------------------------------------------------------\u001b[0m",
      "\u001b[0;31mValidationError\u001b[0m                           Traceback (most recent call last)",
      "\u001b[0;32m<ipython-input-4-af16bdf128b7>\u001b[0m in \u001b[0;36m<module>\u001b[0;34m\u001b[0m\n\u001b[1;32m      1\u001b[0m \u001b[0mobject2\u001b[0m \u001b[0;34m=\u001b[0m \u001b[0;34m{\u001b[0m\u001b[0;34m\"naam\"\u001b[0m\u001b[0;34m:\u001b[0m \u001b[0;34m\"Kees\"\u001b[0m\u001b[0;34m,\u001b[0m \u001b[0;34m\"leeftijd\"\u001b[0m\u001b[0;34m:\u001b[0m \u001b[0;34m\"dertig\"\u001b[0m\u001b[0;34m}\u001b[0m\u001b[0;34m\u001b[0m\u001b[0;34m\u001b[0m\u001b[0m\n\u001b[0;32m----> 2\u001b[0;31m \u001b[0mvalidate\u001b[0m\u001b[0;34m(\u001b[0m\u001b[0minstance\u001b[0m\u001b[0;34m=\u001b[0m\u001b[0mobject2\u001b[0m\u001b[0;34m,\u001b[0m \u001b[0mschema\u001b[0m\u001b[0;34m=\u001b[0m\u001b[0mschema\u001b[0m\u001b[0;34m)\u001b[0m\u001b[0;34m\u001b[0m\u001b[0;34m\u001b[0m\u001b[0m\n\u001b[0m",
      "\u001b[0;32m~/opt/anaconda3/envs/jupyterbook/lib/python3.9/site-packages/jsonschema/validators.py\u001b[0m in \u001b[0;36mvalidate\u001b[0;34m(instance, schema, cls, *args, **kwargs)\u001b[0m\n\u001b[1;32m    932\u001b[0m     \u001b[0merror\u001b[0m \u001b[0;34m=\u001b[0m \u001b[0mexceptions\u001b[0m\u001b[0;34m.\u001b[0m\u001b[0mbest_match\u001b[0m\u001b[0;34m(\u001b[0m\u001b[0mvalidator\u001b[0m\u001b[0;34m.\u001b[0m\u001b[0miter_errors\u001b[0m\u001b[0;34m(\u001b[0m\u001b[0minstance\u001b[0m\u001b[0;34m)\u001b[0m\u001b[0;34m)\u001b[0m\u001b[0;34m\u001b[0m\u001b[0;34m\u001b[0m\u001b[0m\n\u001b[1;32m    933\u001b[0m     \u001b[0;32mif\u001b[0m \u001b[0merror\u001b[0m \u001b[0;32mis\u001b[0m \u001b[0;32mnot\u001b[0m \u001b[0;32mNone\u001b[0m\u001b[0;34m:\u001b[0m\u001b[0;34m\u001b[0m\u001b[0;34m\u001b[0m\u001b[0m\n\u001b[0;32m--> 934\u001b[0;31m         \u001b[0;32mraise\u001b[0m \u001b[0merror\u001b[0m\u001b[0;34m\u001b[0m\u001b[0;34m\u001b[0m\u001b[0m\n\u001b[0m\u001b[1;32m    935\u001b[0m \u001b[0;34m\u001b[0m\u001b[0m\n\u001b[1;32m    936\u001b[0m \u001b[0;34m\u001b[0m\u001b[0m\n",
      "\u001b[0;31mValidationError\u001b[0m: 'dertig' is not of type 'integer'\n\nFailed validating 'type' in schema['properties']['leeftijd']:\n    {'type': 'integer'}\n\nOn instance['leeftijd']:\n    'dertig'"
     ]
    }
   ],
   "source": [
    "object2 = {\"naam\": \"Kees\", \"leeftijd\": \"dertig\"}\n",
    "validate(instance=object2, schema=schema)"
   ]
  },
  {
   "cell_type": "markdown",
   "id": "99e45b70-a3f2-4519-a15e-0bb9676c211a",
   "metadata": {},
   "source": [
    "Bij de volgende instantie ontbreekt het verplichte veld \"naam\", waarschijnlijk door de verwarring met \"voornaam\":"
   ]
  },
  {
   "cell_type": "code",
   "execution_count": 5,
   "id": "aba11a73-ba0b-40dd-acb4-426b4b62d2d9",
   "metadata": {},
   "outputs": [
    {
     "ename": "ValidationError",
     "evalue": "'naam' is a required property\n\nFailed validating 'required' in schema:\n    {'properties': {'leeftijd': {'type': 'integer'},\n                    'naam': {'type': 'string'}},\n     'required': ['naam'],\n     'type': 'object'}\n\nOn instance:\n    {'leeftijd': 21, 'voornaam': 'Marie'}",
     "output_type": "error",
     "traceback": [
      "\u001b[0;31m---------------------------------------------------------------------------\u001b[0m",
      "\u001b[0;31mValidationError\u001b[0m                           Traceback (most recent call last)",
      "\u001b[0;32m<ipython-input-5-51fbd9e17b49>\u001b[0m in \u001b[0;36m<module>\u001b[0;34m\u001b[0m\n\u001b[1;32m      1\u001b[0m \u001b[0mobject3\u001b[0m \u001b[0;34m=\u001b[0m \u001b[0;34m{\u001b[0m\u001b[0;34m\"voornaam\"\u001b[0m\u001b[0;34m:\u001b[0m \u001b[0;34m\"Marie\"\u001b[0m\u001b[0;34m,\u001b[0m \u001b[0;34m\"leeftijd\"\u001b[0m\u001b[0;34m:\u001b[0m \u001b[0;36m21\u001b[0m\u001b[0;34m}\u001b[0m\u001b[0;34m\u001b[0m\u001b[0;34m\u001b[0m\u001b[0m\n\u001b[0;32m----> 2\u001b[0;31m \u001b[0mvalidate\u001b[0m\u001b[0;34m(\u001b[0m\u001b[0minstance\u001b[0m\u001b[0;34m=\u001b[0m\u001b[0mobject3\u001b[0m\u001b[0;34m,\u001b[0m \u001b[0mschema\u001b[0m\u001b[0;34m=\u001b[0m\u001b[0mschema\u001b[0m\u001b[0;34m)\u001b[0m\u001b[0;34m\u001b[0m\u001b[0;34m\u001b[0m\u001b[0m\n\u001b[0m",
      "\u001b[0;32m~/opt/anaconda3/envs/jupyterbook/lib/python3.9/site-packages/jsonschema/validators.py\u001b[0m in \u001b[0;36mvalidate\u001b[0;34m(instance, schema, cls, *args, **kwargs)\u001b[0m\n\u001b[1;32m    932\u001b[0m     \u001b[0merror\u001b[0m \u001b[0;34m=\u001b[0m \u001b[0mexceptions\u001b[0m\u001b[0;34m.\u001b[0m\u001b[0mbest_match\u001b[0m\u001b[0;34m(\u001b[0m\u001b[0mvalidator\u001b[0m\u001b[0;34m.\u001b[0m\u001b[0miter_errors\u001b[0m\u001b[0;34m(\u001b[0m\u001b[0minstance\u001b[0m\u001b[0;34m)\u001b[0m\u001b[0;34m)\u001b[0m\u001b[0;34m\u001b[0m\u001b[0;34m\u001b[0m\u001b[0m\n\u001b[1;32m    933\u001b[0m     \u001b[0;32mif\u001b[0m \u001b[0merror\u001b[0m \u001b[0;32mis\u001b[0m \u001b[0;32mnot\u001b[0m \u001b[0;32mNone\u001b[0m\u001b[0;34m:\u001b[0m\u001b[0;34m\u001b[0m\u001b[0;34m\u001b[0m\u001b[0m\n\u001b[0;32m--> 934\u001b[0;31m         \u001b[0;32mraise\u001b[0m \u001b[0merror\u001b[0m\u001b[0;34m\u001b[0m\u001b[0;34m\u001b[0m\u001b[0m\n\u001b[0m\u001b[1;32m    935\u001b[0m \u001b[0;34m\u001b[0m\u001b[0m\n\u001b[1;32m    936\u001b[0m \u001b[0;34m\u001b[0m\u001b[0m\n",
      "\u001b[0;31mValidationError\u001b[0m: 'naam' is a required property\n\nFailed validating 'required' in schema:\n    {'properties': {'leeftijd': {'type': 'integer'},\n                    'naam': {'type': 'string'}},\n     'required': ['naam'],\n     'type': 'object'}\n\nOn instance:\n    {'leeftijd': 21, 'voornaam': 'Marie'}"
     ]
    }
   ],
   "source": [
    "object3 = {\"voornaam\": \"Marie\", \"leeftijd\": 21}\n",
    "validate(instance=object3, schema=schema)"
   ]
  },
  {
   "cell_type": "markdown",
   "id": "79b93e21-39bb-4601-a842-4dbd12a33f4f",
   "metadata": {},
   "source": [
    "Voorbeelden:\n",
    "\n",
    "* beschrijving van de structuur van een Person (contact)\n",
    "* beschrijving van de structuur van een Event\n",
    "* beschrijving van de structuur van een Product (generalisatie/specialisatie)"
   ]
  },
  {
   "cell_type": "markdown",
   "id": "1c3e8734-b66b-4b05-93ab-06023938729e",
   "metadata": {},
   "source": [
    "Het voorbeeld hierboven is een eenvoudig begin. In JSON-schema kun je aangeven:\n",
    "\n",
    "* wat de structuur is: `object`, `array`, of een enkelvoudig type;\n",
    "* welke velden een object kan hebben; of moet hebben (`required`);\n",
    "* welk type elk veld moet hebben; of elk item van een `array`;\n",
    "* welke alternatieven er zijn (`oneOf`, `anyOf`);\n",
    "* aan welke eisen de waarden moeten voldoen, bijvoorbeeld de minimum- en maximumwaarden;\n",
    "* ...\n",
    "\n",
    "In het volgende hoofdstuk geven we een aantal voorbeeld waarin meer van de mogelijkheden gebruikt worden."
   ]
  },
  {
   "cell_type": "markdown",
   "id": "28f700e7-fc4b-4859-8088-26f6fb13bc05",
   "metadata": {},
   "source": [
    "## JSON-schema en MongoDB\n",
    "\n",
    "Zoals gezegd moet je ervoor kunnen zorgen dat de documenten in een MongoDB collection eenzelfde gemeenschappelijke (deel)structuur hebben, om zoekopdrachten op een zinvolle manier te kunnen gebruiken.\n",
    "In principe kun je met `jsonchema.validate` er al voor zorgen dat een document dat je toevoegt aan het gemeenschappelijke schema voldoet. Maar MongoDB maakt het nog wat gemakkelijker: je kunt een JSON-schema koppelen aan een collection. MongoDB zorgt er dan voor dat er alleen documenten toegevoegd kunnen worden die aan dat schema voldoen."
   ]
  },
  {
   "cell_type": "code",
   "execution_count": null,
   "id": "d8363243-60ae-4922-9356-2469edbec5dd",
   "metadata": {},
   "outputs": [],
   "source": []
  },
  {
   "cell_type": "markdown",
   "id": "929dc4bc-a754-4021-9f5f-8aac8ee382f6",
   "metadata": {},
   "source": [
    "Voorbeelden:\n",
    "\n",
    "* zoeken in documenten waarbij sommige documenten een andere structuur hebben, bijvoorbeeld gebruik van andere namen (tikfout en/of andere taal)\n",
    "    * (dit moet in de voorbeeld-invoer voorbereid worden)\n",
    "    * bij voorkeur in het vorige hoofdstuk\n",
    "* beschrijven van een JSON-documentstructuur, en het controleren van enkele voorbeelden (bijv. de personen uit het database-voorbeeld?\n",
    "* MongoDB: koppelen van JSON-schema aan een collection;\n",
    "    * toevoegen van een document dat aan het schema voldoet\n",
    "    * toevoegen van een document dat niet aan het schema voldoet\n"
   ]
  },
  {
   "cell_type": "markdown",
   "id": "4dc240b2-b2a4-4cb8-91d3-7817700982f7",
   "metadata": {},
   "source": [
    "Volgende stap: gebruik van standaard-namen voor entiteiten/documenten, attributen/properties. Bijvoorbeeld: via schema.org\n",
    "\n",
    "Dit is ook een opstap naar Linked Data. Schema.org is gebaseerd op de Linked Data principes."
   ]
  },
  {
   "cell_type": "markdown",
   "id": "a83731da-88c6-4616-a82e-ef91fc6ceab4",
   "metadata": {},
   "source": [
    "## Voorbeeld: product met specialisaties\n",
    "\n",
    "In één van de vorige hoofdstukken heb je gezien dat we verschillende varianten (specialisaties) van product-documenten in eenzelfde collection onderbrachten.\n",
    "Je kunt in die collection dan op verschillende manieren zoeken: (i) op de algemene eigenschappen van een product; (ii) op de eigenschappen van een bepaalde specialisatie.\n",
    "\n",
    "> De structuur van Product met specialisaties heet wel generalisatie-specialisatie: \"Product\" is de generalisatie, \"Boek\" en \"Cd\" zijn voorbeelden van specialisaties. In object-georiënteerde programmeertalen heet dit ook wel \"overerving\" of \"inheritance\": de specialisaties Boek en Cd erven de algemene eigenschappen (velden) van de generalisatie Product.\n",
    "\n",
    "In JSON-schema kun je deze structuur als volgt weergeven:"
   ]
  },
  {
   "cell_type": "markdown",
   "id": "877f68ae-894e-4a39-8853-48493321e6eb",
   "metadata": {},
   "source": [
    "```{margin} Gen/Spec in SQL\n",
    "In SQL tabellen kun je de generalisatie/specialisatie-structuur weergeven door een verwijzing van het specialisatie-deel naar het generalisatie-deel. Voor de generalisatie en voor de verschillende specialisaties gebruik je aparte tabellen.\n",
    "```"
   ]
  },
  {
   "cell_type": "markdown",
   "id": "c825f214-9e34-4dd8-bdce-e4daddcc3ee1",
   "metadata": {},
   "source": [
    "**Vraag**: het is duidelijk wat met `required` bedoeld wordt. De niet-required velden zijn optioneel. Zijn er buiten die velden nog andere velden mogelijk? Hoe geef je dat aan?"
   ]
  },
  {
   "cell_type": "markdown",
   "id": "b819834d-6098-4ac0-93a8-c0469eb757e3",
   "metadata": {},
   "source": [
    "## Wat kun je nog meer met JSON-schema?\n",
    "\n",
    "### Genereren van web-formulieren\n",
    "\n",
    "Een formulier is een voorbeeld van gestructureerde data.\n",
    "Je kunt de structuur van een formulier beschrijven met JSON-schema.\n",
    "Met behulp van een generator-programma kun je dan de code genereren voor het bijbehorende web-formulier.\n",
    "Er zijn generatoren voor allerlei web-frameworks, zoals React.\n",
    "\n",
    "Zie bijvoorbeeld: https://rjsf-team.github.io/react-jsonschema-form/. Die website bevat ook allerlei voorbeelden van schema's en de bijbehorende formulieren."
   ]
  },
  {
   "cell_type": "markdown",
   "id": "f4c76d6d-f08b-46d3-879e-06eb2a270e4a",
   "metadata": {},
   "source": [
    "### Documenteren en gebruiken van API's\n",
    "\n",
    "JSON wordt vaak gebruikt in web-APIs, zowel voor de invoer-data van een web-request als voor de resulterende uitvoer.\n",
    "Je kunt het formaat van de invoer- en uitvoer-documenten beschrijven met JSON-schema.\n",
    "Dit is niet alleen zinvol als documentatie, maar je kunt ook de code voor het testen en verwerken uit de JSON laten genereren.\n",
    "\n",
    "Voor een volledige beschrijving van een web-API moet je ook de paden (bijvoorbeeld \"/products\") en HTTP methods (\"GET\", \"PUT\", enz.) beschrijven. Hiervoor kun je OpenAPI gebruiken (https://swagger.io/specification/). Het deel van de OpenAPO specificatie dat betrekking heeft op de data die uitgewisseld wordt, is gebaseerd op JSON-schema. Met de Swagger hulpmiddelen kun je OpenAPI interfaces documenteren en testen.\n",
    "\n",
    "Zie bijvoorbeeld:\n",
    "\n",
    "* \n",
    "* https://json.schemastore.org/openweather.current.json (JSON-schema voor openweather API)\n",
    "** https://openweathermap.org/current#current_JSON\n",
    "* https://swagger.io\n",
    "** https://swagger.io/tools/swagger-editor/\n",
    "\n",
    "Voor API's is er de OpenAPI notatie, die bijvoorbeeld gebruikt wordt door Swagger (swagger.io). Daarmee kun je API's documenteren en controleren. Er zijn aparte programma's om JSON-schema om te zetten naar OpenAPI notatie.\n"
   ]
  },
  {
   "cell_type": "markdown",
   "id": "69bdc6fc-0e8d-455e-be5b-f13c61c0b45f",
   "metadata": {},
   "source": [
    "## Opdrachten\n",
    "\n",
    "* gegeven een JSON-Schema, breid dit uit met een veld; en maak twee voorbeelden, één van een document dat hieraan voldoet en één van een document dat (net niet) voldoet - bijvoorbeeld doordat de waarde niet van het juiste type is.\n",
    "* gegeven een JSON-Schema, pas de documenten aan zodat deze aan het schema voldoen.\n",
    "* MongoDB: koppel een JSON-Schema aan een collection, en controleer of de documenten aan dat schema voldoen. Zorg ervoor dat de documenten aan het schema voldoen.\n",
    "* genereren van een formulier (HTML? Angular etc.?) vanuit JSON-Schema\n",
    "* maak een formulier (met het React-tool) voor het onderstaande JSON-Schema\n",
    "    * uitproberen van verschillende mogelijkheden\n",
    "    * ook voor valideren van input!"
   ]
  },
  {
   "cell_type": "markdown",
   "id": "47b59621-5329-4868-9d52-40e86cd424af",
   "metadata": {},
   "source": [
    "### Toetsvragen"
   ]
  },
  {
   "cell_type": "markdown",
   "id": "394a8c49-dbd3-49cd-9ab7-ba19b59c1796",
   "metadata": {},
   "source": [
    "Met JSON schema\n",
    "\n",
    "* kun je de structuur van een verzameling JSON-documenten (instanties) beschrijven\n",
    "* kun je de structuur van een JSON-document valideren\n",
    "* kun je de structuur van een JSON-document veranderen\n",
    "* kun je de waarden in een JSON-document veranderen"
   ]
  },
  {
   "cell_type": "markdown",
   "id": "159af416-8398-4b79-ba47-0131b651a6b3",
   "metadata": {},
   "source": [
    "Door een JSON schema aan een MongoDB collection te koppelen\n",
    "\n",
    "* dwing je af dat de documenten in die collection precies dezelfde structuur hebben\n",
    "* dwing je af dat de documenten in die collection een gemeenschappelijke deel-structuur hebben\n",
    "* zorg je ervoor dat een aantal queries over die collection goed gedefinieerd zijn\n",
    "* documenteer je de collection - door aan te geven welke documenten deze kan bevatten"
   ]
  },
  {
   "cell_type": "markdown",
   "id": "189f8846-0d4f-4a9a-adf5-b3337fec728e",
   "metadata": {},
   "source": [
    "## Gevorderde onderwerpen\n",
    "\n",
    "Deze onderwerpen behandelen we in de keuzemodule.\n",
    "\n",
    "* nesting van schema's\n",
    "* gebruik van arrays, lijsten\n",
    "* gebruik van alternatieven (-> support voor Product, Gen/Spec?)\n",
    "* gebruik van JSON-schema voor API'a\n",
    "* gebruik van JSON-schema voor web-formulieren"
   ]
  },
  {
   "cell_type": "markdown",
   "id": "20b6fc88-53d5-4699-b5b3-10db642952f7",
   "metadata": {},
   "source": [
    "Verder lezen:\n",
    "    \n",
    "* https://json-schema.org/understanding-json-schema/"
   ]
  }
 ],
 "metadata": {
  "kernelspec": {
   "display_name": "Python 3",
   "language": "python",
   "name": "python3"
  },
  "language_info": {
   "codemirror_mode": {
    "name": "ipython",
    "version": 3
   },
   "file_extension": ".py",
   "mimetype": "text/x-python",
   "name": "python",
   "nbconvert_exporter": "python",
   "pygments_lexer": "ipython3",
   "version": "3.9.6"
  }
 },
 "nbformat": 4,
 "nbformat_minor": 5
}
