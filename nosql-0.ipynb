{
 "cells": [
  {
   "cell_type": "markdown",
   "id": "1446c334-38ef-4433-b070-c0823d119074",
   "metadata": {},
   "source": [
    "# Waarom NoSQL?\n",
    "\n",
    "Relationele (SQL) database-systemen zijn (veruit) de meest-gebruikte database-systemen.\n",
    "Maar een relationele database vormt niet voor elk database-probleem de beste oplossing.\n",
    "Daarom zijn in de loop van de tijd alternatieve *NoSQL* database-systemen ontwikkeld.\n",
    "In dit gedeelte gaan we in op de redenen om af te wijken van de relationele principes.\n",
    "Later geven we een concreet voorbeeld van het gebruik van een NoSQL database.\n",
    "\n",
    "De belangrijkste redenen voor het gebruik van een NoSQL database zijn:\n",
    "\n",
    "* de *structuur van de data*: als deze niet past bij een \"rechthoekige tabel-structuur\";\n",
    "* de *aard van het gebruik*: als deze niet past bij de aannames en doelstellingen van relationele database-systemen (RDBMS-en).\n"
   ]
  },
  {
   "cell_type": "markdown",
   "id": "a7cbef34-7157-4fde-8be9-94fb04b0809b",
   "metadata": {
    "tags": []
   },
   "source": [
    "## Structuur van de data\n",
    "\n"
   ]
  },
  {
   "cell_type": "markdown",
   "id": "b987db52-e324-4740-bce4-a01baa3ab355",
   "metadata": {},
   "source": [
    "We hebben gezien dat het ontwerpen van een database in hoofdlijnen uit twee fases bestaat.\n",
    "In de eerste fase bepaal je de structuur van de data uit de eisen en eigenschappen van de \"business\",\n",
    "zonder rekening te houden met de beschikbare structuren van een bepaald database-systeem.\n",
    "In de tweede fase vertaal je de data-structuren naar de beschikbare structuren van een bepaald database-systeem, bijvoorbeeld naar de tabellen van een relationeel (SQL) DBMS.\n",
    "\n",
    "In principe kun je elke data-structuur vertalen naar een relationele tabelstructuur. \n",
    "Maar dat levert niet altijd een efficiënt resultaat op.\n",
    "Zoals we eerder gezien hebben, zijn de volgende onderdelen lastig voor een relationele tabelstructuur:\n",
    "\n",
    "* **(veel) optionele attributen.** Deze optionele attributen geven \"gaten\" in de tabellen. Als er veel gaten zijn, is de tabelstructuur niet efficiënt.\n",
    "* **meerwaardige attributen.** Voor elk meerwaardig attribuut heb je (in principe) een extra tabel nodig; voor het raadplegen daarvan heb je dan steeds extra join-operaties nodig.\n",
    "* **samengestelde attributen.** Een SQL-tabel kent geen \"nesting\": de elementen van een samengesteld attribuut moet je \"platslaan\" tot het niveau van de tabel."
   ]
  },
  {
   "cell_type": "markdown",
   "id": "e211f1fb-ed17-4b06-b5b9-ed491cc840f0",
   "metadata": {},
   "source": [
    "```{figure} ./images/contact-model.png\n",
    ":name: contact-entiteit\n",
    ":width: 500px\n",
    "\n",
    "Contact-entiteit met attributen\n",
    "```"
   ]
  },
  {
   "cell_type": "markdown",
   "id": "dc030768-630a-4e46-af2a-4f7eed11d9b1",
   "metadata": {},
   "source": [
    "Een *contact*, zoals je dat tegenkomt in een contacten-database op een smartphone, combineert veel van deze lastige elementen:\n",
    "\n",
    "* er zijn veel optionele attributen, die maar door enkele contacten gebruikt worden (denk aan: verjaardig, naam partner, e.d.);\n",
    "* een contact kan meerdere telefoonnummers of adressen hebben (meerwaardige attributen);\n",
    "* een adres is samengesteld uit meerdere delen: straat, huisnummer, postcode, woonplaats. Dit is een voorbeeld van een meerwaardig samengesteld attribut. \n",
    "\n",
    "Een dergelijk contact kun je wel eenvoudig vertalen naar een JSON-structuur, zoals we later zullen zien."
   ]
  },
  {
   "cell_type": "markdown",
   "id": "8a436c54-88e7-4d83-bf68-f4f651f4bbc2",
   "metadata": {},
   "source": [
    "### Oplossingen met tabellen\n",
    "\n",
    "Je kunt een aantal van deze problemen oplossen met behulp van een klein aantal extra tabellen. "
   ]
  },
  {
   "cell_type": "markdown",
   "id": "ac327be0-dfae-42c2-99c6-3845d33ec7e6",
   "metadata": {
    "tags": []
   },
   "source": [
    "## Aard van het gebruik\n",
    "\n",
    "Relationele database-systemen zijn ontworpen met bepaalde aannames over het gebruik.\n",
    "Als het gebruik van een database niet aansluit bij deze aannames, is de relationele oplossing minder efficiënt.\n",
    "Als deze efficiëntie een grote rol speelt bij dit gebruik, dan is een NoSQL-oplossing mogelijk beter.\n",
    "\n",
    "Enkele van de aannames van RDBMS-en:\n",
    "\n",
    "* relatief stabiele data-structuur (statische typering);\n",
    "* consistentie als essentiële eigenschap\n",
    "* meerdere (verschillende) toepassingen\n",
    "* \n"
   ]
  },
  {
   "cell_type": "markdown",
   "id": "c34780aa-87cc-4eda-b7f5-1e6ffbd46378",
   "metadata": {},
   "source": [
    "### Stabiliteit versus flexibiliteit\n",
    "\n",
    "Relationele DBMS-en zijn gericht op stabiliteit. De tabellen hebben een vast schema, met statische typering van de velden. (Dat wil zeggen: de tabel bepaalt het type van de velden; niet de indivuduele rijen of records.)\n",
    "De prijs hiervoor is dat het lastiger is om de structuur van de tabellen te veranderen; en een verandering in het schema van een tabel geldt voor alle rijen (records) in die tabel.\n",
    "\n",
    "Een document-database zoals MongoDB maakt een veel flexibeler aanpak mogelijk, waarbij het \"schema\" van een *collection* (verzameling gelijksoortige documenten) geleidelijk aangepast kan worden."
   ]
  },
  {
   "cell_type": "markdown",
   "id": "4a7210fd-3acd-4557-98e7-0595408d1efc",
   "metadata": {},
   "source": [
    "### Meerdere (verschillende) toepassingen\n",
    "\n",
    "Bij een relationele database staat de data voorop: later kunnen verschillende toepassingen ontworpen worden die deze data gebruiken.\n",
    "Een gevolg van deze aanname is dat de database in principe verantwoordelijk is voor de integriteit en consistentie van de data.\n",
    "Een toepassing die zich niet geheel volgens de regels gedraagt kan de consistentie van de data niet zomaar aantasten.\n",
    "\n",
    "Als je een database ontwerpt voor gebruik door één toepassing, bijvoorbeeld een webwinkel, dan kan een andere taakverdeling tussen database-systeem en toepassing efficiënter zijn."
   ]
  },
  {
   "cell_type": "markdown",
   "id": "fb347e93-2024-464e-b846-521685166e80",
   "metadata": {},
   "source": [
    "### Consistentie\n",
    "\n",
    "Bij databases heb je met verschillende soorten consistentie te maken.\n",
    "\n",
    "* interne consistentie\n",
    "* consistentie met betrekking tot schijf- en leesopdrachten\n",
    "* consistentie tussen de database en de \"business\"\n",
    "\n",
    "De (onmiddellijke) consistentie van een relationele database betekent dat een leesopdracht het resultaat omvat van de voorafgaande schrijfopdrachten.\n",
    "\n",
    "NoSQL database-systemen bieden vaak een zwakkere vorm: uiteindelijke consistentie (eventual consistency).\n",
    "Dit betekent dat het resultaat van een schrijfopdracht uiteindelijk in de leesopdrachten terug te vinden is; maar dat hoef niet bij de eerstvolgende leesopdracht al het geval te zijn.\n",
    "\n",
    "\n"
   ]
  },
  {
   "cell_type": "markdown",
   "id": "e2ca4066-2823-43d3-9f56-2077f87338c1",
   "metadata": {},
   "source": [
    "### Overzicht\n",
    "\n",
    "| SQL                          | NoSQL                                   |\n",
    "| :---                         | :---                                    |\n",
    "| (onmiddellijke) consistentie | uiteindelijke consistentie              |\n",
    "| centrale database            | distributie, replicatie, synchronisatie |"
   ]
  },
  {
   "cell_type": "code",
   "execution_count": null,
   "id": "9e5aaec9-c676-424d-9d78-e436aee534ff",
   "metadata": {},
   "outputs": [],
   "source": []
  }
 ],
 "metadata": {
  "kernelspec": {
   "display_name": "Python 3 (ipykernel)",
   "language": "python",
   "name": "python3"
  },
  "language_info": {
   "codemirror_mode": {
    "name": "ipython",
    "version": 3
   },
   "file_extension": ".py",
   "mimetype": "text/x-python",
   "name": "python",
   "nbconvert_exporter": "python",
   "pygments_lexer": "ipython3",
   "version": "3.9.6"
  }
 },
 "nbformat": 4,
 "nbformat_minor": 5
}
