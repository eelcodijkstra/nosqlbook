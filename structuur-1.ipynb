{
 "cells": [
  {
   "cell_type": "markdown",
   "id": "b8e68b41-ef80-4b62-9678-145891458fa2",
   "metadata": {},
   "source": [
    "# Linked data: JSON-LD\n",
    "\n",
    "* scheme.org"
   ]
  },
  {
   "cell_type": "markdown",
   "id": "74f8f9bd-fef3-4923-830d-9dbfef57ff8c",
   "metadata": {},
   "source": [
    "Linked data principes (en motivatie; mogelijkheden)"
   ]
  },
  {
   "cell_type": "markdown",
   "id": "54a3c6b6-6f68-400b-b0a3-1a81e0649d75",
   "metadata": {},
   "source": [
    "Voorbeelden:\n",
    "\n",
    "* scheme.org\n",
    "* Google voorbeelden (als onderdeel van een webpagina)"
   ]
  },
  {
   "cell_type": "markdown",
   "id": "40aba74e-1d15-4f93-9600-a8eefda5d832",
   "metadata": {},
   "source": [
    "* "
   ]
  }
 ],
 "metadata": {
  "kernelspec": {
   "display_name": "Python 3",
   "language": "python",
   "name": "python3"
  },
  "language_info": {
   "codemirror_mode": {
    "name": "ipython",
    "version": 3
   },
   "file_extension": ".py",
   "mimetype": "text/x-python",
   "name": "python",
   "nbconvert_exporter": "python",
   "pygments_lexer": "ipython3",
   "version": "3.9.6"
  }
 },
 "nbformat": 4,
 "nbformat_minor": 5
}
