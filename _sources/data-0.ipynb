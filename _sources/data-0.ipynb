{
 "cells": [
  {
   "cell_type": "markdown",
   "id": "c314b6ac-9d7c-4437-80bf-93d68c70c216",
   "metadata": {},
   "source": [
    "# Data en informatie"
   ]
  },
  {
   "cell_type": "markdown",
   "id": "aa36075c-4684-47b1-af30-fd5c48c67d19",
   "metadata": {},
   "source": [
    "In de context van databases gebruiken we de begrippen \"data\" en \"informatie\" vaak door elkaar. We proberen hier het verband is tussen deze begrippen uit te werken.\n",
    "\n",
    "**Informatie stuurt.** Informatie gebruik je (uiteindelijk) voor het nemen van beslissingen en voor het sturen van processen. Dit informatie-gebruik gebeurt altijd in een bepaalde *context*.\n",
    "Hierbij is de *vorm* van de informatie belangrijk: deze moet zo zijn dat het snel duidelijk is welke beslissing je het beste kunt nemen."
   ]
  },
  {
   "cell_type": "markdown",
   "id": "125f4485-b864-45db-82bc-9da2fece4db9",
   "metadata": {},
   "source": [
    "**Informatie bestaat uit een (fysieke) vorm en een manier om deze betekenis te geven.** \n",
    "\n",
    "Informatie gaaat verloren als de vorm verloren gaat, of de kennis van de interpretatie. Als de fysieke vorm verdwijnt, is er niets om te interpreteren. Als de vorm er nog is, maar de kennis om deze te interpreteren ontbreekt, dan is het niet mogelijk om de vorm betekenis te geven.\n",
    "\n",
    "(Voorbeeld: Voynich; maar mogelijk ook diskettes zonder diskette-lezer.)"
   ]
  },
  {
   "cell_type": "markdown",
   "id": "07d53ef6-c2c0-438f-9d1d-41aad0edd84a",
   "metadata": {},
   "source": [
    "## Voorbeeld\n",
    "\n",
    "Als voorbeeld geven we een verkeersbord. Dit heeft een (afgesproken) *vorm*.\n",
    "\n",
    "Het wegenverkeersreglement beschrijft de betekenis van dit bord.\n",
    "Er zit wel een bepaalde systematiek in het verband tussen de vorm en de betekenis:\n",
    "borden met een gelijksoortige vorm hebben een gelijksoortige betekenis.\n",
    "Maar er is ook sprake van een zekere willekeur:\n",
    "in een andere wereld zouden andere vormen voor dezelfde betekenis gekozen kunnen worden.\n",
    "\n",
    "In de *context* van een bepaalde verkeerssituatie *stuurt dit bord de beslissingen* van de weggebruikers.\n",
    "Het is daarbij van belang dat de vorm zo gekozen is dat weggebruikers snel de juiste beslissingen kunnen nemen.\n",
    "\n",
    "Als we het hebben over data, dan gaat het in eerste instantie over de *vorm*. \n",
    "De *betekenis* speelt daarbij geen rol. \n",
    "Voorbeelden hiervan zijn: datastructuur, database, datacommunicatie.\n",
    "\n",
    "> De vroegere PTT beschreef hun communicatie-diensten zo: \"we hebben geen boodschap aan de boodschap\". Het gaat er alleen om dat de boodschap (de vorm) duidelijk overgebracht wordt, de betekenis is aan degenen die de boodschap sturen en ontvangen.\n",
    "\n",
    "Informatie verwijst naar de betekenis van de vorm bij het gebruik in een bepaalde context. De interpretatie van de vorm in die context gebeurt meestal door mensen, zoals in het bovenstaande voorbeeld de weggebruikers. \n",
    "(Maar: het kan ook een computer zijn, die de vorm interpreteert, en omzet in acties.)\n",
    "\n",
    "Er is een verband tussen de vorm en de betekenis, maar die is soms niet-triviaal.\n",
    "\n"
   ]
  },
  {
   "cell_type": "markdown",
   "id": "a9bfca98-caeb-4258-aaec-9eae0cf60eb1",
   "metadata": {},
   "source": [
    "## Databases\n",
    "\n",
    "* wat is een database?\n",
    "* waarom databases?\n",
    "* zoeken op inhoud, niet alleen op *key* (sleutel)\n",
    "* DBMS - database-systeem - (vgl. file-systeem of bestandssysteem)\n",
    "* gebruik van databases\n",
    "    * als onderdeel van een toepassing - bijvoorbeeld webwinkel;\n",
    "    * als basis voor besluiten en samenwerken (van mensen)\n",
    "    * als basis voor Data Science\n",
    "    * als basis voor samenwerken van de onderdelen van een toepassing (bijv. Redis?)"
   ]
  },
  {
   "cell_type": "markdown",
   "id": "f84b1c5e-5442-42a0-90ae-a64170f66312",
   "metadata": {},
   "source": [
    "## Gestructureerde data\n",
    "\n",
    "(Vormen met structuur.)"
   ]
  },
  {
   "cell_type": "code",
   "execution_count": null,
   "id": "8b79c946-a29f-4799-8f0d-c55228c7e1fc",
   "metadata": {},
   "outputs": [],
   "source": []
  }
 ],
 "metadata": {
  "kernelspec": {
   "display_name": "Python 3",
   "language": "python",
   "name": "python3"
  },
  "language_info": {
   "codemirror_mode": {
    "name": "ipython",
    "version": 3
   },
   "file_extension": ".py",
   "mimetype": "text/x-python",
   "name": "python",
   "nbconvert_exporter": "python",
   "pygments_lexer": "ipython3",
   "version": "3.9.6"
  }
 },
 "nbformat": 4,
 "nbformat_minor": 5
}
