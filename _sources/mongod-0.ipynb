{
 "cells": [
  {
   "cell_type": "markdown",
   "id": "54da01e6-4dd3-4a9a-a743-2dd6e136769a",
   "metadata": {
    "tags": []
   },
   "source": [
    "# MongoDB\n",
    "\n",
    "Als voorbeeld van een NoSQL database behandelen we MongoDB. \n",
    "Dit is een *document database*: een MongoDB-database bestaat uit één of meer collections; \n",
    "een collection bevat soortgelijke documenten in JSON-formaat."
   ]
  },
  {
   "cell_type": "markdown",
   "id": "5f986233-a390-4423-82cb-3cc318c7849c",
   "metadata": {},
   "source": [
    "Als voorbeeld enkele contact-documenten in JSON notatie:"
   ]
  },
  {
   "cell_type": "markdown",
   "id": "7bf00da7-3273-4977-861a-009e45652e7b",
   "metadata": {},
   "source": [
    "```JSON\n",
    "{ name: 'Hans de Boer',\n",
    "  email: 'hdb@example.com',\n",
    "  tel: '06-1290 8746\n",
    "}\n",
    "```"
   ]
  },
  {
   "cell_type": "markdown",
   "id": "653ed724-cac5-4fcc-9827-ad532967817e",
   "metadata": {},
   "source": [
    "```JSON\n",
    "{ name: 'Leontien de Bruin',\n",
    "  email: [ 'lhmdebruin@hotmail.com', 'leontien134@tiscalimail.nl' ],\n",
    "  address: { street: 'Tulpstraat 17', city: 'Amsterdam' }\n",
    "}\n",
    "```"
   ]
  },
  {
   "cell_type": "markdown",
   "id": "235f5f48-f6c6-4d90-962a-38c41842d5d5",
   "metadata": {},
   "source": [
    "De optionele velden zijn weggelaten. Een contact kan meerdere email-adressen, telefoonnummers, of adressen hebben."
   ]
  },
  {
   "cell_type": "markdown",
   "id": "3c505c44-cb22-4cbf-8c78-7656d4121cca",
   "metadata": {
    "tags": []
   },
   "source": [
    "De documenten in een collection hoeven niet precies dezelfde structuur (hetzelfde schema) te hebben. Elk JSON-document heeft zijn eigen structuur (veldnamen en -types). Voor zoekopdrachten e.d. is het wel handig als de documenten in een collection een deel van hun structuur (namen en types van velden) gemeenschappelijk hebben."
   ]
  },
  {
   "cell_type": "markdown",
   "id": "a20ca887-38fd-4625-b214-7bd46c81d9bf",
   "metadata": {},
   "source": [
    "Een vergelijking tussen de MongDB-begrippen en de SQL begrippen:\n",
    "\n",
    "| MongoDB          | SQL          |\n",
    "| :--              | :--          |\n",
    "| database         | database     |\n",
    "| collection       | tabel        |\n",
    "| document (record)| rij (record) |\n",
    "| property (veld)  | kolom (veld) |"
   ]
  },
  {
   "cell_type": "markdown",
   "id": "7c9a6a67-ec22-473f-b99d-a520d9b392cd",
   "metadata": {},
   "source": [
    "**Opmerking.** MongoDB gebruikt BSON, wat een kleine uitbreiding is ten opzichte van het normale JSON. BSON heeft de volgende extra basis-types: Date, BLOB, MongoDB Key. Bovendien wordt BSON intern in een binair formaat opgeslagen."
   ]
  },
  {
   "cell_type": "markdown",
   "id": "be58081e-6315-4980-9575-404272d285b9",
   "metadata": {},
   "source": [
    "**Opmerking.** Het \"wire\" interface van MongoDB is ook beschikbaar voor veel andere databases. Dit betekent dat je vrij gemakkelijk van aanbieder kunt wisselen, zonder ingrijpende veranderingen in de software. Voorbeelden van databases die dit interface aanbieden:\n",
    "\n",
    "*"
   ]
  },
  {
   "cell_type": "code",
   "execution_count": null,
   "id": "9e0b0984-8f81-4a21-85cb-91a106983e8d",
   "metadata": {},
   "outputs": [],
   "source": []
  }
 ],
 "metadata": {
  "kernelspec": {
   "display_name": "Python 3",
   "language": "python",
   "name": "python3"
  },
  "language_info": {
   "codemirror_mode": {
    "name": "ipython",
    "version": 3
   },
   "file_extension": ".py",
   "mimetype": "text/x-python",
   "name": "python",
   "nbconvert_exporter": "python",
   "pygments_lexer": "ipython3",
   "version": "3.9.6"
  }
 },
 "nbformat": 4,
 "nbformat_minor": 5
}
