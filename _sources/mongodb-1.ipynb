{
 "cells": [
  {
   "cell_type": "markdown",
   "id": "22abb87e-fc22-4b98-b3e1-ba9619d0252a",
   "metadata": {},
   "source": [
    "# MongoDB: zoekopdrachten"
   ]
  },
  {
   "cell_type": "markdown",
   "id": "a45b86da-e751-405e-9934-d695286bd5bc",
   "metadata": {},
   "source": [
    "In dit hoofdstuk geven we een aantal voorbeelden van MongoDB-zoekopdrachten."
   ]
  },
  {
   "cell_type": "markdown",
   "id": "7b9a8f70-fa5d-4f3a-852d-55a38eae394a",
   "metadata": {},
   "source": [
    "```{note}\n",
    "Voor de MongoDB opdrachten maken we gebruik van de MongoDB shell.\n",
    "Elke opdracht wordt voorafgegaan door de opdrachten om deze shell te activeren: `%%bash; mongosh demo --quiet`.\n",
    "De mongoDB shell wordt hier uitgevoerd voor de database `demo`.\n",
    "Deze database bevat de collection `contacts`.\n",
    "```"
   ]
  },
  {
   "cell_type": "markdown",
   "id": "f5e754e6-ef74-41fa-9e5e-bc0029c9a638",
   "metadata": {},
   "source": [
    "De opdracht `db.contacts.find(querydoc)` zoekt de documenten in de collection `contacts` die matchen met het query-document.\n",
    "Het query-document is een JSON-document, net als de documenten in de database.\n",
    "Met de lege query `{}` matchen alle mogelijke documenten:"
   ]
  },
  {
   "cell_type": "code",
   "execution_count": null,
   "id": "63ba0629-b691-41e4-92e5-05912dc16447",
   "metadata": {},
   "outputs": [],
   "source": [
    "%%bash\n",
    "mongosh demo --quiet\n",
    "\n",
    "db.contacts.find({})"
   ]
  },
  {
   "cell_type": "markdown",
   "id": "570e7339-015b-46ab-b2fa-635348cf02b4",
   "metadata": {},
   "source": [
    "Door meer gegevens in het query-document in te vullen kun je de zoekopdracht verfijnen:"
   ]
  },
  {
   "cell_type": "code",
   "execution_count": null,
   "id": "9223b5fc-c767-443d-b828-876508847c93",
   "metadata": {},
   "outputs": [],
   "source": [
    "%%bash\n",
    "mongosh demo --quiet\n",
    "\n",
    "db.contacts.find({\"name\": 'Joop de Zwart'})"
   ]
  },
  {
   "cell_type": "markdown",
   "id": "3a7bbb0f-f5b8-4013-ae3d-01c51ae216ad",
   "metadata": {},
   "source": [
    "Je kunt ook zoeken op de velden van een samengesteld attribuut:"
   ]
  },
  {
   "cell_type": "code",
   "execution_count": null,
   "id": "a9990936-4220-40e2-94dc-fe05608f561b",
   "metadata": {},
   "outputs": [],
   "source": [
    "%%bash\n",
    "mongosh demo --quiet\n",
    "\n",
    "db.contacts.find({\"address.city\": 'Amsterdam'})"
   ]
  },
  {
   "cell_type": "code",
   "execution_count": null,
   "id": "86662040-e52a-4c29-86b5-a6bf4e1d5407",
   "metadata": {},
   "outputs": [],
   "source": []
  }
 ],
 "metadata": {
  "kernelspec": {
   "display_name": "Python 3",
   "language": "python",
   "name": "python3"
  },
  "language_info": {
   "codemirror_mode": {
    "name": "ipython",
    "version": 3
   },
   "file_extension": ".py",
   "mimetype": "text/x-python",
   "name": "python",
   "nbconvert_exporter": "python",
   "pygments_lexer": "ipython3",
   "version": "3.9.6"
  }
 },
 "nbformat": 4,
 "nbformat_minor": 5
}
