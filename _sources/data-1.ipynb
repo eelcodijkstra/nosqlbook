{
 "cells": [
  {
   "cell_type": "markdown",
   "id": "9ae71f6f-353c-4ed4-8e2c-3ded53840c38",
   "metadata": {},
   "source": [
    "# Gestructureerde gegevens"
   ]
  },
  {
   "cell_type": "markdown",
   "id": "59b0bfdc-9654-4093-9bf8-2b409fea30d1",
   "metadata": {},
   "source": []
  }
 ],
 "metadata": {
  "kernelspec": {
   "display_name": "Python 3",
   "language": "python",
   "name": "python3"
  },
  "language_info": {
   "codemirror_mode": {
    "name": "ipython",
    "version": 3
   },
   "file_extension": ".py",
   "mimetype": "text/x-python",
   "name": "python",
   "nbconvert_exporter": "python",
   "pygments_lexer": "ipython3",
   "version": "3.9.6"
  }
 },
 "nbformat": 4,
 "nbformat_minor": 5
}
