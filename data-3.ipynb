{
 "cells": [
  {
   "cell_type": "markdown",
   "id": "503c8475-6494-4af4-a611-de78504f69e6",
   "metadata": {},
   "source": [
    "# Zoeken in het web\n",
    "\n",
    "* webpagina: ongestructureerde data (tekst)\n",
    "* \n",
    "\n",
    "Een webpagina is een voorbeeld van ongestructureerde data: tekst die geschreven is voor een menselijke lezer.\n"
   ]
  },
  {
   "cell_type": "code",
   "execution_count": null,
   "id": "9a31954b-bc26-4ecb-8e5b-8c4078af08c9",
   "metadata": {},
   "outputs": [],
   "source": []
  }
 ],
 "metadata": {
  "kernelspec": {
   "display_name": "Python 3",
   "language": "python",
   "name": "python3"
  },
  "language_info": {
   "codemirror_mode": {
    "name": "ipython",
    "version": 3
   },
   "file_extension": ".py",
   "mimetype": "text/x-python",
   "name": "python",
   "nbconvert_exporter": "python",
   "pygments_lexer": "ipython3",
   "version": "3.9.6"
  }
 },
 "nbformat": 4,
 "nbformat_minor": 5
}
