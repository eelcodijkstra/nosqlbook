{
 "cells": [
  {
   "cell_type": "markdown",
   "id": "b5996d2c-fa6e-4f2b-9285-e2dc7e14f169",
   "metadata": {},
   "source": [
    "# Data in tabellen\n",
    "\n",
    "Als je een groot aantal ingevulde formulieren hebt, kun je de gegevens daarvan in een tabel weergeven.\n",
    "Elke rij in de tabel komt overeen met een formulier; de kolommen in de tabel komen overeen met de velden in het formulier. In deze tabel kun je eenvoudig de relevante gegevens zoeken en samenvatten.\n",
    "\n",
    "Dit hoofdstuk behandelt de belangrijkste manieren om de gegevens in een tabel te selecteren en samen te vatten.\n"
   ]
  },
  {
   "cell_type": "markdown",
   "id": "53917fd4-8642-4633-ac2b-27ec799c5a60",
   "metadata": {},
   "source": [
    "figuur - tabel met ingevulde formulieren"
   ]
  },
  {
   "cell_type": "markdown",
   "id": "c680ed48-2db2-4a6c-9415-a66bb7820c76",
   "metadata": {},
   "source": [
    "Google Forms geeft je de mogelijkheid om de ingevulde formulieren op te slaan als spreadsheet. Je krijgt daarmee een dergelijke tabel waarin je gegevens kunt zoeken en samenvatten."
   ]
  },
  {
   "cell_type": "markdown",
   "id": "cae9597a-747d-440c-9835-904d2f11736d",
   "metadata": {},
   "source": [
    "Opdracht\n",
    "\n",
    "* ontwerp een formulier dat je door de leerlingen in je klas (en verder) kunt laten invullen;\n",
    "    * dit kan bijvoorbeeld met Google Forms, en met andere vergelijkbare programma's;\n",
    "* sla de ingevulde gegevens op in de vorm van een spreadsheet;\n",
    "    * \n"
   ]
  },
  {
   "cell_type": "markdown",
   "id": "3df8a51e-2b0b-4f4b-913a-eea4d1fba30c",
   "metadata": {},
   "source": [
    "Als voorbeeld gebruiken we in dit hoofdstuk een tabel met auteurs en boeken. (In de opdrachten ga je met de Top2000 aan de slag.)\n",
    "\n",
    "De structuur van de rijen ofwel *records* in de tabel ziet er als volgt uit:\n",
    "\n",
    "Zo'n structuurbeschrijving van een tabel of van een database noemen we ook wel het *schema* van die tabel of database.\n"
   ]
  }
 ],
 "metadata": {
  "kernelspec": {
   "display_name": "xsqlite",
   "language": "sqlite",
   "name": "xsqlite"
  },
  "language_info": {
   "codemirror_mode": "sql",
   "file_extension": "",
   "mimetype": "",
   "name": "sqlite3",
   "version": "3.33.0"
  }
 },
 "nbformat": 4,
 "nbformat_minor": 5
}
