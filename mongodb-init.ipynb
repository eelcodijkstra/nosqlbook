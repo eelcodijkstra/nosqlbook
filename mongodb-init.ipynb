{
 "cells": [
  {
   "cell_type": "markdown",
   "id": "b83c07eb-4904-4e14-8e82-d1a9f1538c40",
   "metadata": {},
   "source": [
    "# MongoDB initialisatie\n",
    "\n",
    "Met de onderstaande opdrachten vullen we de MongoDB database.\n",
    "Hiermee krijg je een goed-gedefinieerde beginsituatie.\n",
    "Dat kan handig zijn als je de nodige wijzigingen aangebracht hebt."
   ]
  },
  {
   "cell_type": "code",
   "execution_count": null,
   "id": "d69ab76a-4698-4ca0-a041-e0b826790f61",
   "metadata": {},
   "outputs": [],
   "source": [
    "%%bash\n",
    "mongoimport -d demo --drop -c contacts adressen.json"
   ]
  },
  {
   "cell_type": "markdown",
   "id": "d1bfad24-fd81-416d-856f-40ed5a0636ec",
   "metadata": {},
   "source": [
    "De onderstaande zoekopdracht toont alle documenten in de collection `adressen` van de database `demo`."
   ]
  },
  {
   "cell_type": "code",
   "execution_count": null,
   "id": "3f73dd21-bd6b-4152-9588-288a7c45e2aa",
   "metadata": {},
   "outputs": [],
   "source": [
    "%%bash\n",
    "mongosh demo --quiet\n",
    "\n",
    "db.contacts.find({})"
   ]
  },
  {
   "cell_type": "code",
   "execution_count": null,
   "id": "7358d896-63e9-4d4a-8a97-15612423b0a1",
   "metadata": {},
   "outputs": [],
   "source": []
  }
 ],
 "metadata": {
  "kernelspec": {
   "display_name": "Python 3 (ipykernel)",
   "language": "python",
   "name": "python3"
  },
  "language_info": {
   "codemirror_mode": {
    "name": "ipython",
    "version": 3
   },
   "file_extension": ".py",
   "mimetype": "text/x-python",
   "name": "python",
   "nbconvert_exporter": "python",
   "pygments_lexer": "ipython3",
   "version": "3.9.6"
  }
 },
 "nbformat": 4,
 "nbformat_minor": 5
}
