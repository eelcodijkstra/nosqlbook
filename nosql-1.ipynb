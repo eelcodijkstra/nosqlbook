{
 "cells": [
  {
   "cell_type": "markdown",
   "id": "660f9459-4051-4d5d-8637-53054b9e3117",
   "metadata": {},
   "source": [
    "# Hoe NoSQL?"
   ]
  },
  {
   "cell_type": "markdown",
   "id": "a4585f94-fe70-4725-bc89-d2dce887b7b9",
   "metadata": {},
   "source": [
    "Er zijn verschillende soorten NoSQL database systemen (DBMS-en).\n",
    "Deze richten zich op verschillende soorten data en op verschillende vormen van gebruik.\n",
    "\n",
    "De belangrijkste soorten, met enkele voorbeeld DBMS-en:\n",
    "\n",
    "* **key-value** database: IndexedDB (in de browser);\n",
    "* **document** database: CouchDB, MongoDB;\n",
    "* **graph** database: \n",
    "* **column** database:\n"
   ]
  },
  {
   "cell_type": "markdown",
   "id": "d23cb65a-f54b-4047-b66f-56d454b6103d",
   "metadata": {},
   "source": [
    "In dit materiaal gaan we alleen dieper in op *document* database-systemen, in het bijzonder MongoDB."
   ]
  },
  {
   "cell_type": "markdown",
   "id": "011bd9b8-42f3-4b05-b74c-49ca5d26b9d2",
   "metadata": {},
   "source": [
    "Zie verder: (Wikipedia?)"
   ]
  },
  {
   "cell_type": "markdown",
   "id": "3907c463-3ffc-4ed9-b8d2-18cd7fac9f07",
   "metadata": {},
   "source": [
    "Wat moet je hiervan onthouden?\n",
    "\n",
    "* er zijn verschillende soorten NoSQL databases\n",
    "* vooral gericht op verschillend gestructureerde data"
   ]
  }
 ],
 "metadata": {
  "kernelspec": {
   "display_name": "Python 3 (ipykernel)",
   "language": "python",
   "name": "python3"
  },
  "language_info": {
   "codemirror_mode": {
    "name": "ipython",
    "version": 3
   },
   "file_extension": ".py",
   "mimetype": "text/x-python",
   "name": "python",
   "nbconvert_exporter": "python",
   "pygments_lexer": "ipython3",
   "version": "3.9.6"
  }
 },
 "nbformat": 4,
 "nbformat_minor": 5
}
